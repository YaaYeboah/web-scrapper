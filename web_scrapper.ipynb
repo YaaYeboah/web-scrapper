{
 "cells": [
  {
   "cell_type": "markdown",
   "id": "b84eb1c8",
   "metadata": {},
   "source": [
    "# Automated Web Scraper"
   ]
  },
  {
   "cell_type": "code",
   "execution_count": 4,
   "id": "89a5ecc5",
   "metadata": {},
   "outputs": [],
   "source": [
    "# Importing the libraries we need \n",
    "\n",
    "from bs4 import BeautifulSoup\n",
    "import requests\n",
    "import re\n",
    "import pandas as pd\n",
    "from datetime import datetime\n",
    "import os\n",
    "import time "
   ]
  },
  {
   "cell_type": "code",
   "execution_count": 63,
   "id": "eeeed113",
   "metadata": {},
   "outputs": [],
   "source": [
    "# Pulling the information we need from the cypto website ie Crypto name and price\n",
    "\n",
    "def automated_crypto_pull():\n",
    "    \n",
    "    url = 'https://coinmarketcap.com/currencies/bitcoin/'\n",
    "\n",
    "    page =requests.get(url)\n",
    "\n",
    "    soup = BeautifulSoup(page.text,'html')\n",
    "\n",
    "    name = soup.find('span',class_ = \"sc-65e7f566-0 lsTl\").text\n",
    "\n",
    "    # Using regular expression to extract just the name of the cryptocurrency\n",
    "\n",
    "    crypto = re.findall('([a-zA-Z]+)\\s',name)\n",
    "\n",
    "    crypto_name = crypto[0]\n",
    "\n",
    "    # Extracting the price using web scrapping\n",
    "\n",
    "    crypto_price = soup.find('span',class_ ='sc-65e7f566-0 WXGwg base-text').text\n",
    "\n",
    "    final_price = crypto_price.replace('$','')\n",
    "\n",
    "    # Creating a dataframe with the crypto name, price and the timestamp to indicate when we pulled the data \n",
    "\n",
    "    date_time = datetime.now()\n",
    "\n",
    "    dict = {'Crypto Name': crypto_name,\n",
    "           'Price':final_price,\n",
    "           'TimeStamp':date_time}\n",
    "\n",
    "    df= pd.DataFrame([dict])\n",
    "\n",
    "    # Exporting the dataframe into an Excel file\n",
    "\n",
    "    if os.path.exists(r'/Users/asantewaa/Desktop/Data\\ analyst\\ portfolio \\Crypto Automated Pull.csv'):\n",
    "        df.to_csv(r'/Users/asantewaa/Desktop/Data\\ analyst\\ portfolio \\Crypto Automated Pull.csv',mode ='a',header =False,index = False)\n",
    "    else:\n",
    "        df.to_csv(r'/Users/asantewaa/Desktop/Data\\ analyst\\ portfolio \\Crypto Automated Pull.csv',index = False)\n",
    "    print(df)\n",
    "\n"
   ]
  },
  {
   "cell_type": "code",
   "execution_count": 64,
   "id": "0f161b76",
   "metadata": {},
   "outputs": [
    {
     "name": "stdout",
     "output_type": "stream",
     "text": [
      "  Crypto Name      Price                  TimeStamp\n",
      "0     Bitcoin  87,536.98 2024-11-11 21:53:05.871758\n",
      "  Crypto Name      Price                  TimeStamp\n",
      "0     Bitcoin  87,536.98 2024-11-11 21:53:17.228500\n",
      "  Crypto Name      Price                  TimeStamp\n",
      "0     Bitcoin  87,536.98 2024-11-11 21:53:27.466828\n",
      "  Crypto Name      Price                  TimeStamp\n",
      "0     Bitcoin  87,536.98 2024-11-11 21:53:37.846392\n",
      "  Crypto Name      Price                  TimeStamp\n",
      "0     Bitcoin  87,536.98 2024-11-11 21:53:48.127375\n",
      "  Crypto Name      Price                  TimeStamp\n",
      "0     Bitcoin  87,536.98 2024-11-11 21:53:58.422158\n",
      "  Crypto Name      Price                  TimeStamp\n",
      "0     Bitcoin  87,536.98 2024-11-11 21:54:08.727706\n",
      "  Crypto Name      Price                  TimeStamp\n",
      "0     Bitcoin  87,276.80 2024-11-11 21:54:19.632529\n"
     ]
    },
    {
     "ename": "KeyboardInterrupt",
     "evalue": "",
     "output_type": "error",
     "traceback": [
      "\u001b[0;31m---------------------------------------------------------------------------\u001b[0m",
      "\u001b[0;31mKeyboardInterrupt\u001b[0m                         Traceback (most recent call last)",
      "Cell \u001b[0;32mIn[64], line 3\u001b[0m\n\u001b[1;32m      1\u001b[0m \u001b[38;5;28;01mwhile\u001b[39;00m \u001b[38;5;28;01mTrue\u001b[39;00m:\n\u001b[1;32m      2\u001b[0m     automated_crypto_pull()\n\u001b[0;32m----> 3\u001b[0m     time\u001b[38;5;241m.\u001b[39msleep(\u001b[38;5;241m10\u001b[39m)\n",
      "\u001b[0;31mKeyboardInterrupt\u001b[0m: "
     ]
    }
   ],
   "source": [
    "# Appending new price to file every hour \n",
    "\n",
    "while True:\n",
    "    automated_crypto_pull()\n",
    "    time.sleep(3600)"
   ]
  }
 ],
 "metadata": {
  "kernelspec": {
   "display_name": "Python 3 (ipykernel)",
   "language": "python",
   "name": "python3"
  },
  "language_info": {
   "codemirror_mode": {
    "name": "ipython",
    "version": 3
   },
   "file_extension": ".py",
   "mimetype": "text/x-python",
   "name": "python",
   "nbconvert_exporter": "python",
   "pygments_lexer": "ipython3",
   "version": "3.11.5"
  }
 },
 "nbformat": 4,
 "nbformat_minor": 5
}
